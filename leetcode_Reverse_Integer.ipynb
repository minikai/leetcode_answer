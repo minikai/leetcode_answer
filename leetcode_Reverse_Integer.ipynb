{
 "cells": [
  {
   "cell_type": "code",
   "execution_count": 1,
   "metadata": {
    "collapsed": false
   },
   "outputs": [],
   "source": [
    "class Solution(object):\n",
    "    def reverse(self ,num):\n",
    "        if num >  0 :\n",
    "            strNum = str(num)\n",
    "            Len_strNum = len(strNum)\n",
    "            c = 0\n",
    "            x = []\n",
    "            for i in range(Len_strNum) :\n",
    "                y = Len_strNum - i - 1\n",
    "                z = strNum[int(Len_strNum) - i - 1]\n",
    "                tenNum = int(10**y)\n",
    "                b = int(z)*tenNum\n",
    "                c = c + b\n",
    "            return int (c)\n",
    "        else :\n",
    "            strNums = str(num)\n",
    "            strNum = strNums[1:]\n",
    "            Len_strNum = len(strNum)\n",
    "            c = 0\n",
    "            x = []\n",
    "            for i in range(Len_strNum) :\n",
    "                y = Len_strNum - i - 1\n",
    "                z = strNum[int(Len_strNum) - i - 1]\n",
    "                tenNum = int(10**y)\n",
    "                b = int(z)*tenNum\n",
    "                c = c + b\n",
    "            return int (c * (-1))"
   ]
  },
  {
   "cell_type": "code",
   "execution_count": 8,
   "metadata": {
    "collapsed": false
   },
   "outputs": [
    {
     "data": {
      "text/plain": [
       "-1"
      ]
     },
     "execution_count": 8,
     "metadata": {},
     "output_type": "execute_result"
    }
   ],
   "source": [
    "reverse(-100)"
   ]
  },
  {
   "cell_type": "code",
   "execution_count": 9,
   "metadata": {
    "collapsed": false
   },
   "outputs": [
    {
     "data": {
      "text/plain": [
       "1"
      ]
     },
     "execution_count": 9,
     "metadata": {},
     "output_type": "execute_result"
    }
   ],
   "source": [
    "reverse(100)"
   ]
  },
  {
   "cell_type": "code",
   "execution_count": 10,
   "metadata": {
    "collapsed": false
   },
   "outputs": [
    {
     "data": {
      "text/plain": [
       "-8399201"
      ]
     },
     "execution_count": 10,
     "metadata": {},
     "output_type": "execute_result"
    }
   ],
   "source": [
    "reverse(-1029938)"
   ]
  },
  {
   "cell_type": "code",
   "execution_count": 11,
   "metadata": {
    "collapsed": false
   },
   "outputs": [
    {
     "data": {
      "text/plain": [
       "83009201"
      ]
     },
     "execution_count": 11,
     "metadata": {},
     "output_type": "execute_result"
    }
   ],
   "source": [
    "reverse(10290038)"
   ]
  }
 ],
 "metadata": {
  "kernelspec": {
   "display_name": "Python 2",
   "language": "python",
   "name": "python2"
  },
  "language_info": {
   "codemirror_mode": {
    "name": "ipython",
    "version": 2
   },
   "file_extension": ".py",
   "mimetype": "text/x-python",
   "name": "python",
   "nbconvert_exporter": "python",
   "pygments_lexer": "ipython2",
   "version": "2.7.8"
  }
 },
 "nbformat": 4,
 "nbformat_minor": 0
}
